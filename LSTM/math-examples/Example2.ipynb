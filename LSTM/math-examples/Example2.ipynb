{
 "cells": [
  {
   "cell_type": "code",
   "execution_count": 1,
   "metadata": {},
   "outputs": [],
   "source": [
    "class DataLoader():\n",
    "\n",
    "\tdef __init__(self, filename, split, cols):\n",
    "\t\tdataframe = pd.read_csv(filename)\n",
    "\t\ti_split = int(len(dataframe) * split)\n",
    "\t\tself.data_train = dataframe.get(cols).values[:i_split]\n",
    "\t\tself.data_test  = dataframe.get(cols).values[i_split:]\n",
    "\t\tself.len_train  = len(self.data_train)\n",
    "\t\tself.len_test   = len(self.data_test)\n",
    "\t\tself.len_train_windows = None\n",
    "\n",
    "\tdef get_train_data(self, seq_len, normalise):\n",
    "\t\tdata_x = []\n",
    "\t\tdata_y = []\n",
    "\t\tfor i in range(self.len_train - seq_len):\n",
    "\t\t\tx, y = self._next_window(i, seq_len, normalise)\n",
    "\t\t\tdata_x.append(x)\n",
    "\t\t\tdata_y.append(y)\n",
    "\t\treturn np.array(data_x), np.array(data_y)"
   ]
  },
  {
   "cell_type": "code",
   "execution_count": 2,
   "metadata": {},
   "outputs": [],
   "source": [
    "class Model():\n",
    "\n",
    "\tdef __init__(self):\n",
    "\t\tself.model = Sequential()\n",
    "\n",
    "\tdef build_model(self, configs):\n",
    "\t\ttimer = Timer()\n",
    "\t\ttimer.start()\n",
    "\n",
    "\t\tfor layer in configs['model']['layers']:\n",
    "\t\t\tneurons = layer['neurons'] if 'neurons' in layer else None\n",
    "\t\t\tdropout_rate = layer['rate'] if 'rate' in layer else None\n",
    "\t\t\tactivation = layer['activation'] if 'activation' in layer else None\n",
    "\t\t\treturn_seq = layer['return_seq'] if 'return_seq' in layer else None\n",
    "\t\t\tinput_timesteps = layer['input_timesteps'] if 'input_timesteps' in layer else None\n",
    "\t\t\tinput_dim = layer['input_dim'] if 'input_dim' in layer else None\n",
    "\n",
    "\t\t\tif layer['type'] == 'dense':\n",
    "\t\t\t\tself.model.add(Dense(neurons, activation=activation))\n",
    "\t\t\tif layer['type'] == 'lstm':\n",
    "\t\t\t\tself.model.add(LSTM(neurons, input_shape=(input_timesteps, input_dim), return_sequences=return_seq))\n",
    "\t\t\tif layer['type'] == 'dropout':\n",
    "\t\t\t\tself.model.add(Dropout(dropout_rate))\n",
    "\n",
    "\t\tself.model.compile(loss=configs['model']['loss'], optimizer=configs['model']['optimizer'])\n",
    "\n",
    "\t\tprint('[Model] Model Compiled')\n",
    "\t\ttimer.stop()"
   ]
  },
  {
   "cell_type": "code",
   "execution_count": 3,
   "metadata": {},
   "outputs": [
    {
     "data": {
      "text/plain": [
       "'/home/suvoganguli/Software/anaconda2/envs/ipykernel_py3/bin/python3.6'"
      ]
     },
     "execution_count": 3,
     "metadata": {},
     "output_type": "execute_result"
    }
   ],
   "source": [
    "import sys\n",
    "sys.executable"
   ]
  },
  {
   "cell_type": "code",
   "execution_count": 4,
   "metadata": {},
   "outputs": [
    {
     "ename": "ModuleNotFoundError",
     "evalue": "No module named 'simplejson'",
     "output_type": "error",
     "traceback": [
      "\u001b[0;31m---------------------------------------------------------------------------\u001b[0m",
      "\u001b[0;31mModuleNotFoundError\u001b[0m                       Traceback (most recent call last)",
      "\u001b[0;32m<ipython-input-4-6804f470c42e>\u001b[0m in \u001b[0;36m<module>\u001b[0;34m\u001b[0m\n\u001b[0;32m----> 1\u001b[0;31m \u001b[0;32mimport\u001b[0m \u001b[0msimplejson\u001b[0m \u001b[0;32mas\u001b[0m \u001b[0mjson\u001b[0m\u001b[0;34m\u001b[0m\u001b[0;34m\u001b[0m\u001b[0m\n\u001b[0m\u001b[1;32m      2\u001b[0m \u001b[0;32mimport\u001b[0m \u001b[0mos\u001b[0m\u001b[0;34m\u001b[0m\u001b[0;34m\u001b[0m\u001b[0m\n\u001b[1;32m      3\u001b[0m \u001b[0;34m\u001b[0m\u001b[0m\n\u001b[1;32m      4\u001b[0m \u001b[0mconfigs\u001b[0m \u001b[0;34m=\u001b[0m \u001b[0mjson\u001b[0m\u001b[0;34m.\u001b[0m\u001b[0mload\u001b[0m\u001b[0;34m(\u001b[0m\u001b[0mopen\u001b[0m\u001b[0;34m(\u001b[0m\u001b[0;34m'config.json'\u001b[0m\u001b[0;34m,\u001b[0m \u001b[0;34m'r'\u001b[0m\u001b[0;34m)\u001b[0m\u001b[0;34m)\u001b[0m\u001b[0;34m\u001b[0m\u001b[0;34m\u001b[0m\u001b[0m\n\u001b[1;32m      5\u001b[0m \u001b[0;34m\u001b[0m\u001b[0m\n",
      "\u001b[0;31mModuleNotFoundError\u001b[0m: No module named 'simplejson'"
     ]
    }
   ],
   "source": [
    "import simplejson as json\n",
    "import os\n",
    "\n",
    "configs = json.load(open('config.json', 'r'))\n",
    "\n",
    "data = DataLoader(\n",
    "\tos.path.join('data', configs['data']['filename']),\n",
    "\tconfigs['data']['train_test_split'],\n",
    "\tconfigs['data']['columns']\n",
    ")\n",
    "\n",
    "model = Model()\n",
    "model.build_model(configs)\n",
    "x, y = data.get_train_data(\n",
    "\tseq_len = configs['data']['sequence_length'],\n",
    "\tnormalise = configs['data']['normalise']\n",
    ")\n",
    "\n",
    "model.train(\n",
    "\tx,\n",
    "\ty,\n",
    "\tepochs = configs['training']['epochs'],\n",
    "\tbatch_size = configs['training']['batch_size']\n",
    ")\n",
    "\n",
    "x_test, y_test = data.get_test_data(\n",
    "\tseq_len = configs['data']['sequence_length'],\n",
    "\tnormalise = configs['data']['normalise']\n",
    ")\n"
   ]
  },
  {
   "cell_type": "code",
   "execution_count": null,
   "metadata": {},
   "outputs": [],
   "source": [
    "def predict_point_by_point(self, data):\n",
    "\t#Predict each timestep given the last sequence of true data, in effect only predicting 1 step ahead each time\n",
    "\tpredicted = self.model.predict(data)\n",
    "\tpredicted = np.reshape(predicted, (predicted.size,))\n",
    "\treturn predicted\n",
    "\n",
    "def predict_sequence_full(self, data, window_size):\n",
    "\t#Shift the window by 1 new prediction each time, re-run predictions on new window\n",
    "\tcurr_frame = data[0]\n",
    "\tpredicted = []\n",
    "\tfor i in range(len(data)):\n",
    "\t\tpredicted.append(self.model.predict(curr_frame[newaxis,:,:])[0,0])\n",
    "\t\tcurr_frame = curr_frame[1:]\n",
    "\t\tcurr_frame = np.insert(curr_frame, [window_size-2], predicted[-1], axis=0)\n",
    "\treturn predicted\n",
    "\n",
    "predictions_pointbypoint = model.predict_point_by_point(x_test)\n",
    "plot_results(predictions_pointbypoint, y_test)\n",
    "\n",
    "predictions_fullseq = model.predict_sequence_full(x_test, configs['data']['sequence_length'])\n",
    "plot_results(predictions_fullseq, y_test)"
   ]
  },
  {
   "cell_type": "code",
   "execution_count": null,
   "metadata": {},
   "outputs": [],
   "source": []
  }
 ],
 "metadata": {
  "kernelspec": {
   "display_name": "Python 3",
   "language": "python",
   "name": "python3"
  },
  "language_info": {
   "codemirror_mode": {
    "name": "ipython",
    "version": 3
   },
   "file_extension": ".py",
   "mimetype": "text/x-python",
   "name": "python",
   "nbconvert_exporter": "python",
   "pygments_lexer": "ipython3",
   "version": "3.6.8"
  }
 },
 "nbformat": 4,
 "nbformat_minor": 2
}
